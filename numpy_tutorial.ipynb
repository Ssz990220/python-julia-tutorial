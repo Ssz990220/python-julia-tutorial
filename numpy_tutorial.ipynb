{
 "cells": [
  {
   "cell_type": "code",
   "execution_count": 6,
   "metadata": {},
   "outputs": [],
   "source": [
    "import numpy as np\n",
    "import scipy as sp"
   ]
  },
  {
   "cell_type": "code",
   "execution_count": 5,
   "metadata": {},
   "outputs": [
    {
     "data": {
      "text/plain": [
       "array([[0.93283029, 0.01999745, 0.99265579],\n",
       "       [0.09923067, 0.64996851, 0.33663912],\n",
       "       [0.20465201, 0.9908868 , 0.62723287]])"
      ]
     },
     "execution_count": 5,
     "metadata": {},
     "output_type": "execute_result"
    }
   ],
   "source": [
    "np.random.random((3,3))"
   ]
  },
  {
   "cell_type": "code",
   "execution_count": 6,
   "metadata": {},
   "outputs": [
    {
     "data": {
      "text/plain": [
       "array([[0., 0., 0.],\n",
       "       [0., 0., 0.],\n",
       "       [0., 0., 0.]])"
      ]
     },
     "execution_count": 6,
     "metadata": {},
     "output_type": "execute_result"
    }
   ],
   "source": [
    "np.zeros((3,3))"
   ]
  },
  {
   "cell_type": "code",
   "execution_count": 7,
   "metadata": {},
   "outputs": [
    {
     "data": {
      "text/plain": [
       "array([[1., 0., 0.],\n",
       "       [0., 1., 0.],\n",
       "       [0., 0., 1.]])"
      ]
     },
     "execution_count": 7,
     "metadata": {},
     "output_type": "execute_result"
    }
   ],
   "source": [
    "np.identity(3)"
   ]
  },
  {
   "cell_type": "code",
   "execution_count": 10,
   "metadata": {},
   "outputs": [
    {
     "data": {
      "text/plain": [
       "array([1, 2, 3, 4, 5, 6])"
      ]
     },
     "execution_count": 10,
     "metadata": {},
     "output_type": "execute_result"
    }
   ],
   "source": [
    "np.concatenate([np.array([1,2,3]), np.array([4,5,6])],axis=0)"
   ]
  },
  {
   "cell_type": "code",
   "execution_count": 11,
   "metadata": {},
   "outputs": [
    {
     "data": {
      "text/plain": [
       "array([[1, 2, 3],\n",
       "       [1, 2, 3]])"
      ]
     },
     "execution_count": 11,
     "metadata": {},
     "output_type": "execute_result"
    }
   ],
   "source": [
    "np.array([[1,2,3],[1,2,3]])"
   ]
  },
  {
   "cell_type": "code",
   "execution_count": 16,
   "metadata": {},
   "outputs": [
    {
     "data": {
      "text/plain": [
       "array([[1, 2, 3]])"
      ]
     },
     "execution_count": 16,
     "metadata": {},
     "output_type": "execute_result"
    }
   ],
   "source": [
    "np.expand_dims(np.array([1,2,3]), axis=0)"
   ]
  },
  {
   "cell_type": "code",
   "execution_count": 19,
   "metadata": {},
   "outputs": [
    {
     "name": "stdout",
     "output_type": "stream",
     "text": [
      "[[0.29869504 0.34681681 0.20423947]\n",
      " [0.3783177  0.27214622 0.32025522]\n",
      " [0.47507814 0.89485521 0.83340418]]\n"
     ]
    },
    {
     "data": {
      "text/plain": [
       "array([[0.08921872, 0.1202819 , 0.04171376],\n",
       "       [0.14312428, 0.07406356, 0.1025634 ],\n",
       "       [0.22569924, 0.80076585, 0.69456253]])"
      ]
     },
     "execution_count": 19,
     "metadata": {},
     "output_type": "execute_result"
    }
   ],
   "source": [
    "A = np.random.random((3,3))\n",
    "print(A)\n",
    "A * A"
   ]
  },
  {
   "cell_type": "code",
   "execution_count": 20,
   "metadata": {},
   "outputs": [
    {
     "data": {
      "text/plain": [
       "array([[0.31745537, 0.3807421 , 0.34228924],\n",
       "       [0.3681056 , 0.49185255, 0.43132569],\n",
       "       [0.87637516, 1.15407263, 1.07817429]])"
      ]
     },
     "execution_count": 20,
     "metadata": {},
     "output_type": "execute_result"
    }
   ],
   "source": [
    "A @ A"
   ]
  },
  {
   "cell_type": "code",
   "execution_count": 24,
   "metadata": {},
   "outputs": [
    {
     "data": {
      "text/plain": [
       "array([[0.78841349],\n",
       "       [0.06489978],\n",
       "       [0.63088518]])"
      ]
     },
     "execution_count": 24,
     "metadata": {},
     "output_type": "execute_result"
    }
   ],
   "source": [
    "b = np.random.random((3,1))\n",
    "b"
   ]
  },
  {
   "cell_type": "code",
   "execution_count": 25,
   "metadata": {},
   "outputs": [
    {
     "data": {
      "text/plain": [
       "array([[0.38685519],\n",
       "       [0.51797727],\n",
       "       [0.95841626]])"
      ]
     },
     "execution_count": 25,
     "metadata": {},
     "output_type": "execute_result"
    }
   ],
   "source": [
    "A @ b"
   ]
  },
  {
   "cell_type": "code",
   "execution_count": 1,
   "metadata": {},
   "outputs": [],
   "source": [
    "import timeit"
   ]
  },
  {
   "cell_type": "code",
   "execution_count": 33,
   "metadata": {},
   "outputs": [
    {
     "data": {
      "text/plain": [
       "1.4169110999791884e-06"
      ]
     },
     "execution_count": 33,
     "metadata": {},
     "output_type": "execute_result"
    }
   ],
   "source": [
    "timeit.timeit(\"A @ B\", setup = \"import numpy as np; A = np.random.random((3,3)); B = np.random.random((3,3))\", number=1000000) / 1000000"
   ]
  },
  {
   "cell_type": "code",
   "execution_count": 2,
   "metadata": {},
   "outputs": [],
   "source": [
    "import numba as nb"
   ]
  },
  {
   "cell_type": "code",
   "execution_count": 8,
   "metadata": {},
   "outputs": [],
   "source": [
    "def matrix_product(mat_a, mat_b):\n",
    "    \"\"\"Returns the product of the matrices mat_a and mat_b.\"\"\"\n",
    "    m = mat_a.shape[0]\n",
    "    n = mat_b.shape[1]\n",
    "\n",
    "    assert(mat_a.shape[1] == mat_b.shape[0])\n",
    "\n",
    "    ncol = mat_a.shape[1]\n",
    "\n",
    "    mat_c = np.zeros((m, n), dtype=np.float64)\n",
    "\n",
    "    for row_ind in range(m):\n",
    "        for col_ind in range(n):\n",
    "            for k in range(ncol):\n",
    "                mat_c[row_ind, col_ind] += mat_a[row_ind, k] * mat_b[k, col_ind]\n",
    "\n",
    "    return mat_c"
   ]
  },
  {
   "cell_type": "code",
   "execution_count": 18,
   "metadata": {},
   "outputs": [],
   "source": [
    "@nb.njit(nb.float64[:,:](nb.float64[:,:], nb.float64[:,:]), cache=True)\n",
    "def matrix_product_nb(mat_a, mat_b):\n",
    "    \"\"\"Returns the product of the matrices mat_a and mat_b.\"\"\"\n",
    "    m = mat_a.shape[0]\n",
    "    n = mat_b.shape[1]\n",
    "\n",
    "    # assert(mat_a.shape[1] == mat_b.shape[0])\n",
    "\n",
    "    ncol = mat_a.shape[1]\n",
    "\n",
    "    mat_c = np.zeros((m, n), dtype=np.float64)\n",
    "\n",
    "    for row_ind in range(m):\n",
    "        for col_ind in range(n):\n",
    "            for k in range(ncol):\n",
    "                mat_c[row_ind, col_ind] += mat_a[row_ind, k] * mat_b[k, col_ind]\n",
    "\n",
    "    return mat_c"
   ]
  },
  {
   "cell_type": "code",
   "execution_count": 19,
   "metadata": {},
   "outputs": [
    {
     "data": {
      "text/plain": [
       "2.0129569998243822e-05"
      ]
     },
     "execution_count": 19,
     "metadata": {},
     "output_type": "execute_result"
    }
   ],
   "source": [
    "timeit.timeit(\"matrix_product(A,B)\",setup=\"from __main__ import matrix_product; import numpy as np; A = np.random.random((3,3)); B = np.random.random((3,3))\", number = 10000) / 10000"
   ]
  },
  {
   "cell_type": "code",
   "execution_count": 20,
   "metadata": {},
   "outputs": [
    {
     "data": {
      "text/plain": [
       "1.1595539998961613e-06"
      ]
     },
     "execution_count": 20,
     "metadata": {},
     "output_type": "execute_result"
    }
   ],
   "source": [
    "timeit.timeit(\"matrix_product_nb(A,B)\",setup=\"from __main__ import matrix_product_nb; import numpy as np; A = np.random.random((3,3)); B = np.random.random((3,3))\", number = 100000) / 100000"
   ]
  },
  {
   "cell_type": "code",
   "execution_count": null,
   "metadata": {},
   "outputs": [],
   "source": []
  }
 ],
 "metadata": {
  "kernelspec": {
   "display_name": "pyjulia",
   "language": "python",
   "name": "python3"
  },
  "language_info": {
   "codemirror_mode": {
    "name": "ipython",
    "version": 3
   },
   "file_extension": ".py",
   "mimetype": "text/x-python",
   "name": "python",
   "nbconvert_exporter": "python",
   "pygments_lexer": "ipython3",
   "version": "3.11.4"
  },
  "orig_nbformat": 4
 },
 "nbformat": 4,
 "nbformat_minor": 2
}
