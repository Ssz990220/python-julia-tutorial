{
 "cells": [
  {
   "cell_type": "code",
   "execution_count": 1,
   "metadata": {},
   "outputs": [],
   "source": [
    "import numpy as np"
   ]
  },
  {
   "cell_type": "code",
   "execution_count": 2,
   "metadata": {},
   "outputs": [],
   "source": [
    "def Tij(theta,i,DH):\n",
    "    theta_local = theta + DH[i,3]\n",
    "    Tij1 = np.array([[np.cos(theta_local), -np.sin(theta_local), 0, 0],\n",
    "                     [np.sin(theta_local), np.cos(theta_local), 0, 0],\n",
    "                     [0, 0, 1, DH[i,2]],\n",
    "                     [0, 0, 0, 1]],dtype=np.float64)\n",
    "    Tij2 = np.array([[1, 0, 0, DH[i,1]],\n",
    "                     [0, np.cos(DH[i,3]), -np.sin(DH[i,3]), 0],\n",
    "                     [0, np.sin(DH[i,3]), np.cos(DH[i,3]), 0],\n",
    "                     [0, 0, 0, 1]],dtype=np.float64)\n",
    "    return Tij1@Tij2"
   ]
  },
  {
   "cell_type": "code",
   "execution_count": 3,
   "metadata": {},
   "outputs": [],
   "source": [
    "def FkineDH(qs, DH):\n",
    "    T = np.identity(4)\n",
    "    n = DH.shape[0]\n",
    "    for i in range(n):\n",
    "        T = T @ Tij(qs[i],i,DH)\n",
    "    return T"
   ]
  },
  {
   "cell_type": "code",
   "execution_count": 4,
   "metadata": {},
   "outputs": [
    {
     "data": {
      "text/plain": [
       "array([[  0.        , 175.        , 495.        ,  -1.57079633],\n",
       "       [ -1.57079633, 900.        ,   0.        ,   0.        ],\n",
       "       [  0.        , 170.        ,   0.        ,  -1.57079633],\n",
       "       [  0.        ,   0.        , 960.        ,   1.57079633],\n",
       "       [  0.        ,   0.        ,   0.        ,  -1.57079633],\n",
       "       [  3.14159265,   0.        , 135.        ,   0.        ]])"
      ]
     },
     "execution_count": 4,
     "metadata": {},
     "output_type": "execute_result"
    }
   ],
   "source": [
    "#      0     1 2 3\n",
    "#      theta a d alpha\n",
    "DH = [[0.0,175.0,495.0,-np.pi/2],\n",
    "      [-np.pi/2,900.0,0.0,0.0],\n",
    "      [0.0,170.0,0.0,-np.pi/2],\n",
    "      [0.0,0.0,960.0,np.pi/2],\n",
    "      [0.0,0.0,0.0,-np.pi/2],\n",
    "      [np.pi,0.0,135.0,0.0]]\n",
    "DH = np.array(DH)\n",
    "DH"
   ]
  },
  {
   "cell_type": "code",
   "execution_count": 5,
   "metadata": {},
   "outputs": [],
   "source": [
    "import timeit"
   ]
  },
  {
   "cell_type": "markdown",
   "metadata": {},
   "source": [
    "# 正向运动学速度"
   ]
  },
  {
   "cell_type": "code",
   "execution_count": 6,
   "metadata": {},
   "outputs": [
    {
     "data": {
      "text/plain": [
       "5.016464000000269e-05"
      ]
     },
     "execution_count": 6,
     "metadata": {},
     "output_type": "execute_result"
    }
   ],
   "source": [
    "timeit.timeit(\"FkineDH(np.zeros((6)),DH)\", setup=\"import numpy as np; from __main__ import FkineDH, DH\", number=10000)/10000"
   ]
  },
  {
   "cell_type": "code",
   "execution_count": 7,
   "metadata": {},
   "outputs": [],
   "source": [
    "def FkineDH_all(theta,DH):\n",
    "    DOF = len(theta)\n",
    "    T = np.identity(4)\n",
    "    Ts = []\n",
    "    for i in range(DOF):\n",
    "        T = T @ Tij(theta[i],i,DH)\n",
    "        Ts.append(T)\n",
    "    return Ts"
   ]
  },
  {
   "cell_type": "code",
   "execution_count": 8,
   "metadata": {},
   "outputs": [],
   "source": [
    "def T2rt(T):\n",
    "    return T[0:3,0:3], T[0:3,3]"
   ]
  },
  {
   "cell_type": "code",
   "execution_count": 9,
   "metadata": {},
   "outputs": [
    {
     "data": {
      "text/plain": [
       "array([[-1.8369702e-16, -6.1232340e-17, -1.0000000e+00, -1.3500000e+02],\n",
       "       [ 1.0000000e+00,  1.2246468e-16, -1.8369702e-16, -2.0350000e+03],\n",
       "       [ 1.2246468e-16, -1.0000000e+00,  6.1232340e-17,  6.6500000e+02],\n",
       "       [ 0.0000000e+00,  0.0000000e+00,  0.0000000e+00,  1.0000000e+00]])"
      ]
     },
     "execution_count": 9,
     "metadata": {},
     "output_type": "execute_result"
    }
   ],
   "source": [
    "Te = FkineDH(np.zeros(6),DH)\n",
    "Te"
   ]
  },
  {
   "cell_type": "code",
   "execution_count": 10,
   "metadata": {},
   "outputs": [
    {
     "data": {
      "text/plain": [
       "array([[-1.8369702e-16, -6.1232340e-17, -1.0000000e+00],\n",
       "       [ 1.0000000e+00,  1.2246468e-16, -1.8369702e-16],\n",
       "       [ 1.2246468e-16, -1.0000000e+00,  6.1232340e-17]])"
      ]
     },
     "execution_count": 10,
     "metadata": {},
     "output_type": "execute_result"
    }
   ],
   "source": [
    "(R,p) = T2rt(Te)\n",
    "R"
   ]
  },
  {
   "cell_type": "code",
   "execution_count": 11,
   "metadata": {},
   "outputs": [],
   "source": [
    "def wraptopi(x):\n",
    "    return (x + np.pi) % (2 * np.pi) - np.pi\n",
    "\n",
    "def wrapto1(x):\n",
    "    return (x + 1) % 2 - 1"
   ]
  },
  {
   "cell_type": "code",
   "execution_count": 12,
   "metadata": {},
   "outputs": [],
   "source": [
    "def se3ToVec(se3):\n",
    "    return np.array([se3[0,3], se3[1,3], se3[2,3], se3[2,1], se3[0,2], se3[1,0]])"
   ]
  },
  {
   "cell_type": "code",
   "execution_count": 13,
   "metadata": {},
   "outputs": [],
   "source": [
    "def VecToso3(omg):\n",
    "    \"\"\"Converts a 3-vector to an so(3) representation\n",
    "\n",
    "    :param omg: A 3-vector\n",
    "    :return: The skew symmetric representation of omg\n",
    "\n",
    "    Example Input:\n",
    "        omg = np.array([1, 2, 3])\n",
    "    Output:\n",
    "        np.array([[ 0, -3,  2],\n",
    "                  [ 3,  0, -1],\n",
    "                  [-2,  1,  0]])\n",
    "    \"\"\"\n",
    "    return np.array([[0,      -omg[2],  omg[1]],\n",
    "                     [omg[2],       0, -omg[0]],\n",
    "                     [-omg[1], omg[0],       0]])"
   ]
  },
  {
   "cell_type": "code",
   "execution_count": 14,
   "metadata": {},
   "outputs": [],
   "source": [
    "def NearZero(z):\n",
    "    \"\"\"Determines whether a scalar is small enough to be treated as zero\n",
    "\n",
    "    :param z: A scalar input to check\n",
    "    :return: True if z is close to zero, false otherwise\n",
    "\n",
    "    Example Input:\n",
    "        z = -1e-7\n",
    "    Output:\n",
    "        True\n",
    "    \"\"\"\n",
    "    return abs(z) < 1e-6"
   ]
  },
  {
   "cell_type": "code",
   "execution_count": 15,
   "metadata": {},
   "outputs": [],
   "source": [
    "def MatrixLog3(R):\n",
    "    \"\"\"Computes the matrix logarithm of a rotation matrix\n",
    "\n",
    "    :param R: A 3x3 rotation matrix\n",
    "    :return: The matrix logarithm of R\n",
    "\n",
    "    Example Input:\n",
    "        R = np.array([[0, 0, 1],\n",
    "                      [1, 0, 0],\n",
    "                      [0, 1, 0]])\n",
    "    Output:\n",
    "        np.array([[          0, -1.20919958,  1.20919958],\n",
    "                  [ 1.20919958,           0, -1.20919958],\n",
    "                  [-1.20919958,  1.20919958,           0]])\n",
    "    \"\"\"\n",
    "    acosinput = (np.trace(R) - 1) / 2.0\n",
    "    if acosinput >= 1:\n",
    "        return np.zeros((3, 3))\n",
    "    elif acosinput <= -1:\n",
    "        if not NearZero(1 + R[2][2]):\n",
    "            omg = (1.0 / np.sqrt(2 * (1 + R[2][2]))) \\\n",
    "                  * np.array([R[0][2], R[1][2], 1 + R[2][2]])\n",
    "        elif not NearZero(1 + R[1][1]):\n",
    "            omg = (1.0 / np.sqrt(2 * (1 + R[1][1]))) \\\n",
    "                  * np.array([R[0][1], 1 + R[1][1], R[2][1]])\n",
    "        else:\n",
    "            omg = (1.0 / np.sqrt(2 * (1 + R[0][0]))) \\\n",
    "                  * np.array([1 + R[0][0], R[1][0], R[2][0]])\n",
    "        return VecToso3(np.pi * omg)\n",
    "    else:\n",
    "        theta = np.arccos(acosinput)\n",
    "        return theta / 2.0 / np.sin(theta) * (R - np.array(R).T)"
   ]
  },
  {
   "cell_type": "code",
   "execution_count": 16,
   "metadata": {},
   "outputs": [],
   "source": [
    "def RpToTrans(R, p):\n",
    "    \"\"\"Converts a rotation matrix and a position vector into homogeneous\n",
    "    transformation matrix\n",
    "\n",
    "    :param R: A 3x3 rotation matrix\n",
    "    :param p: A 3-vector\n",
    "    :return: A homogeneous transformation matrix corresponding to the inputs\n",
    "\n",
    "    Example Input:\n",
    "        R = np.array([[1, 0,  0],\n",
    "                      [0, 0, -1],\n",
    "                      [0, 1,  0]])\n",
    "        p = np.array([1, 2, 5])\n",
    "    Output:\n",
    "        np.array([[1, 0,  0, 1],\n",
    "                  [0, 0, -1, 2],\n",
    "                  [0, 1,  0, 5],\n",
    "                  [0, 0,  0, 1]])\n",
    "    \"\"\"\n",
    "    return np.r_[np.c_[R, p], [[0, 0, 0, 1]]]\n",
    "\n",
    "def TransToRp(T):\n",
    "    \"\"\"Converts a homogeneous transformation matrix into a rotation matrix\n",
    "    and position vector\n",
    "\n",
    "    :param T: A homogeneous transformation matrix\n",
    "    :return R: The corresponding rotation matrix,\n",
    "    :return p: The corresponding position vector.\n",
    "\n",
    "    Example Input:\n",
    "        T = np.array([[1, 0,  0, 0],\n",
    "                      [0, 0, -1, 0],\n",
    "                      [0, 1,  0, 3],\n",
    "                      [0, 0,  0, 1]])\n",
    "    Output:\n",
    "        (np.array([[1, 0,  0],\n",
    "                   [0, 0, -1],\n",
    "                   [0, 1,  0]]),\n",
    "         np.array([0, 0, 3]))\n",
    "    \"\"\"\n",
    "    T = np.array(T)\n",
    "    return T[0: 3, 0: 3], T[0: 3, 3]\n",
    "\n",
    "def TransInv(T):\n",
    "    \"\"\"Inverts a homogeneous transformation matrix\n",
    "\n",
    "    :param T: A homogeneous transformation matrix\n",
    "    :return: The inverse of T\n",
    "    Uses the structure of transformation matrices to avoid taking a matrix\n",
    "    inverse, for efficiency.\n",
    "\n",
    "    Example input:\n",
    "        T = np.array([[1, 0,  0, 0],\n",
    "                      [0, 0, -1, 0],\n",
    "                      [0, 1,  0, 3],\n",
    "                      [0, 0,  0, 1]])\n",
    "    Output:\n",
    "        np.array([[1,  0, 0,  0],\n",
    "                  [0,  0, 1, -3],\n",
    "                  [0, -1, 0,  0],\n",
    "                  [0,  0, 0,  1]])\n",
    "    \"\"\"\n",
    "    R, p = TransToRp(T)\n",
    "    Rt = np.array(R).T\n",
    "    return np.r_[np.c_[Rt, -np.dot(Rt, p)], [[0, 0, 0, 1]]]"
   ]
  },
  {
   "cell_type": "code",
   "execution_count": 17,
   "metadata": {},
   "outputs": [],
   "source": [
    "def MatrixLog6(T):\n",
    "    \"\"\"Computes the matrix logarithm of a homogeneous transformation matrix\n",
    "\n",
    "    :param R: A matrix in SE3\n",
    "    :return: The matrix logarithm of R\n",
    "\n",
    "    Example Input:\n",
    "        T = np.array([[1, 0,  0, 0],\n",
    "                      [0, 0, -1, 0],\n",
    "                      [0, 1,  0, 3],\n",
    "                      [0, 0,  0, 1]])\n",
    "    Output:\n",
    "        np.array([[0,          0,           0,           0]\n",
    "                  [0,          0, -1.57079633,  2.35619449]\n",
    "                  [0, 1.57079633,           0,  2.35619449]\n",
    "                  [0,          0,           0,           0]])\n",
    "    \"\"\"\n",
    "    R, p = TransToRp(T)\n",
    "    omgmat = MatrixLog3(R)\n",
    "    if np.array_equal(omgmat, np.zeros((3, 3))):\n",
    "        return np.r_[np.c_[np.zeros((3, 3)),\n",
    "                           [T[0][3], T[1][3], T[2][3]]],\n",
    "                     [[0, 0, 0, 0]]]\n",
    "    else:\n",
    "        theta = np.arccos((np.trace(R) - 1) / 2.0)\n",
    "        return np.r_[np.c_[omgmat,\n",
    "                           np.dot(np.eye(3) - omgmat / 2.0 \\\n",
    "                           + (1.0 / theta - 1.0 / np.tan(theta / 2.0) / 2) \\\n",
    "                              * np.dot(omgmat,omgmat) / theta,[T[0][3],\n",
    "                                                               T[1][3],\n",
    "                                                               T[2][3]])],\n",
    "                     [[0, 0, 0, 0]]]"
   ]
  },
  {
   "cell_type": "code",
   "execution_count": 18,
   "metadata": {},
   "outputs": [
    {
     "data": {
      "text/plain": [
       "array([[ 0.00000000e+00, -1.20919958e+00, -1.20919958e+00,\n",
       "        -1.28357588e+03],\n",
       "       [ 1.20919958e+00,  0.00000000e+00,  1.20919958e+00,\n",
       "        -1.92445166e+03],\n",
       "       [ 1.20919958e+00, -1.20919958e+00,  0.00000000e+00,\n",
       "        -3.73027538e+02],\n",
       "       [ 0.00000000e+00,  0.00000000e+00,  0.00000000e+00,\n",
       "         0.00000000e+00]])"
      ]
     },
     "execution_count": 18,
     "metadata": {},
     "output_type": "execute_result"
    }
   ],
   "source": [
    "MatrixLog6(Te)"
   ]
  },
  {
   "cell_type": "code",
   "execution_count": 19,
   "metadata": {},
   "outputs": [],
   "source": [
    "def my_jacob0(q,DH):\n",
    "    DOF = len(q)\n",
    "    J0 = []\n",
    "    Ts = FkineDH_all(q,DH)\n",
    "    pe = Ts[-1][0:3,3]\n",
    "    for i in range(DOF):\n",
    "        zi = Ts[i][0:3,2]\n",
    "        pi = Ts[i][0:3,3]\n",
    "        J0.append(np.concatenate((np.cross(zi,pe-pi),zi),axis=0))\n",
    "    # print(J0)\n",
    "    J0 = np.vstack(J0).transpose()\n",
    "    return J0"
   ]
  },
  {
   "cell_type": "code",
   "execution_count": 20,
   "metadata": {},
   "outputs": [],
   "source": [
    "def my_jacobe(q,DH):\n",
    "    DOF = len(q)\n",
    "    J0 = []\n",
    "    Ts = FkineDH_all(q,DH)\n",
    "    Rb = Ts[-1][0:3,0:3]\n",
    "    pe = Ts[-1][0:3,3]\n",
    "    for i in range(DOF):\n",
    "        zi = Ts[i][0:3,2]\n",
    "        pi = Ts[i][0:3,3]\n",
    "        J0.append(np.concatenate((np.cross(zi,pi),zi),axis=0))\n",
    "    J0 = np.vstack(J0).transpose()\n",
    "    JB = np.vstack([np.hstack((Rb.transpose(),np.zeros((3,3)))),np.hstack((np.zeros((3,3)),Rb.transpose()))]) @ J0\n",
    "    return JB\n"
   ]
  },
  {
   "cell_type": "code",
   "execution_count": 26,
   "metadata": {},
   "outputs": [],
   "source": [
    "def my_ikine_Newton(Te,DH,q0):\n",
    "    NMax = 10\n",
    "    q = q0\n",
    "    T = FkineDH(q0,DH)\n",
    "    for i in range(NMax):\n",
    "        error = MatrixLog6(TransInv(Te)*T)\n",
    "        e = se3ToVec(error)\n",
    "        JB = my_jacobe(q,DH)\n",
    "        dq = np.linalg.solve(JB,e)\n",
    "        # print(np.linalg.norm(e))\n",
    "        q = q + dq\n",
    "        T = FkineDH(q,DH)\n",
    "    return q"
   ]
  },
  {
   "cell_type": "code",
   "execution_count": 27,
   "metadata": {},
   "outputs": [
    {
     "data": {
      "text/plain": [
       "array([-9.24418051e+18,  4.80123506e+18, -7.78443818e+04, -8.63077677e+04,\n",
       "       -7.83261250e+34,  7.83261250e+34])"
      ]
     },
     "execution_count": 27,
     "metadata": {},
     "output_type": "execute_result"
    }
   ],
   "source": [
    "my_ikine_Newton(Te,DH,np.zeros(6))"
   ]
  },
  {
   "cell_type": "markdown",
   "metadata": {},
   "source": [
    "# 逆向运动学速度\n",
    "\n",
    "统一迭代10次，不会提前终止"
   ]
  },
  {
   "cell_type": "code",
   "execution_count": 28,
   "metadata": {},
   "outputs": [
    {
     "data": {
      "text/plain": [
       "0.003000376499999902"
      ]
     },
     "execution_count": 28,
     "metadata": {},
     "output_type": "execute_result"
    }
   ],
   "source": [
    "timeit.timeit('my_ikine_Newton(Te,DH,np.zeros(6))',setup=\"from __main__ import DH, my_ikine_Newton, Te; import numpy as np\", number=1000)/1000"
   ]
  },
  {
   "cell_type": "code",
   "execution_count": null,
   "metadata": {},
   "outputs": [],
   "source": []
  }
 ],
 "metadata": {
  "kernelspec": {
   "display_name": "base",
   "language": "python",
   "name": "python3"
  },
  "language_info": {
   "codemirror_mode": {
    "name": "ipython",
    "version": 3
   },
   "file_extension": ".py",
   "mimetype": "text/x-python",
   "name": "python",
   "nbconvert_exporter": "python",
   "pygments_lexer": "ipython3",
   "version": "3.10.8"
  },
  "orig_nbformat": 4
 },
 "nbformat": 4,
 "nbformat_minor": 2
}
